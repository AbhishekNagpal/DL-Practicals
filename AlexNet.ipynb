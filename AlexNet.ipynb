{
  "nbformat": 4,
  "nbformat_minor": 0,
  "metadata": {
    "colab": {
      "provenance": [],
      "gpuType": "T4"
    },
    "kernelspec": {
      "name": "python3",
      "display_name": "Python 3"
    },
    "language_info": {
      "name": "python"
    },
    "accelerator": "GPU"
  },
  "cells": [
    {
      "cell_type": "code",
      "execution_count": 1,
      "metadata": {
        "id": "4Ozigql92grO"
      },
      "outputs": [],
      "source": [
        "import tensorflow as tf\n",
        "from tensorflow import keras\n",
        "import keras\n",
        "from keras.models import Sequential\n",
        "from keras.layers import Dense, Activation, Dropout, Flatten, Conv2D, MaxPooling2D\n",
        "from tensorflow.keras.layers import BatchNormalization"
      ]
    },
    {
      "cell_type": "code",
      "source": [
        "!pip install tflearn"
      ],
      "metadata": {
        "colab": {
          "base_uri": "https://localhost:8080/"
        },
        "id": "4UjzzjMq2uFF",
        "outputId": "9227cf93-fc5e-42a5-9015-8f55b10eb9ec"
      },
      "execution_count": 2,
      "outputs": [
        {
          "output_type": "stream",
          "name": "stdout",
          "text": [
            "Collecting tflearn\n",
            "  Downloading tflearn-0.5.0.tar.gz (107 kB)\n",
            "\u001b[?25l     \u001b[90m━━━━━━━━━━━━━━━━━━━━━━━━━━━━━━━━━━━━━━━━\u001b[0m \u001b[32m0.0/107.3 kB\u001b[0m \u001b[31m?\u001b[0m eta \u001b[36m-:--:--\u001b[0m\r\u001b[2K     \u001b[91m━━━━━━━━━━━━━━━━━━━━━━━━━━\u001b[0m\u001b[91m╸\u001b[0m\u001b[90m━━━━━━━━━━━━━\u001b[0m \u001b[32m71.7/107.3 kB\u001b[0m \u001b[31m1.9 MB/s\u001b[0m eta \u001b[36m0:00:01\u001b[0m\r\u001b[2K     \u001b[90m━━━━━━━━━━━━━━━━━━━━━━━━━━━━━━━━━━━━━━━\u001b[0m \u001b[32m107.3/107.3 kB\u001b[0m \u001b[31m2.2 MB/s\u001b[0m eta \u001b[36m0:00:00\u001b[0m\n",
            "\u001b[?25h  Preparing metadata (setup.py) ... \u001b[?25l\u001b[?25hdone\n",
            "Requirement already satisfied: numpy in /usr/local/lib/python3.10/dist-packages (from tflearn) (1.23.5)\n",
            "Requirement already satisfied: six in /usr/local/lib/python3.10/dist-packages (from tflearn) (1.16.0)\n",
            "Requirement already satisfied: Pillow in /usr/local/lib/python3.10/dist-packages (from tflearn) (9.4.0)\n",
            "Building wheels for collected packages: tflearn\n",
            "  Building wheel for tflearn (setup.py) ... \u001b[?25l\u001b[?25hdone\n",
            "  Created wheel for tflearn: filename=tflearn-0.5.0-py3-none-any.whl size=127283 sha256=fc6fdd6ac2e1d5538fc679433630bcf505fc683defb6c0f32335633afb67008b\n",
            "  Stored in directory: /root/.cache/pip/wheels/55/fb/7b/e06204a0ceefa45443930b9a250cb5ebe31def0e4e8245a465\n",
            "Successfully built tflearn\n",
            "Installing collected packages: tflearn\n",
            "Successfully installed tflearn-0.5.0\n"
          ]
        }
      ]
    },
    {
      "cell_type": "code",
      "source": [
        "# Get Data\n",
        "import tflearn.datasets.oxflower17 as oxflower17\n",
        "x, y = oxflower17.load_data(one_hot=True)"
      ],
      "metadata": {
        "colab": {
          "base_uri": "https://localhost:8080/"
        },
        "id": "yCQkEggb3BWg",
        "outputId": "62f2daa5-2673-4f92-a221-a1c5e7a45e88"
      },
      "execution_count": 3,
      "outputs": [
        {
          "output_type": "stream",
          "name": "stderr",
          "text": [
            "WARNING:tensorflow:From /usr/local/lib/python3.10/dist-packages/tensorflow/python/compat/v2_compat.py:107: disable_resource_variables (from tensorflow.python.ops.variable_scope) is deprecated and will be removed in a future version.\n",
            "Instructions for updating:\n",
            "non-resource variables are not supported in the long term\n"
          ]
        },
        {
          "output_type": "stream",
          "name": "stdout",
          "text": [
            "Downloading Oxford 17 category Flower Dataset, Please wait...\n"
          ]
        },
        {
          "output_type": "stream",
          "name": "stderr",
          "text": [
            "100.0% 60276736 / 60270631\n"
          ]
        },
        {
          "output_type": "stream",
          "name": "stdout",
          "text": [
            "Succesfully downloaded 17flowers.tgz 60270631 bytes.\n",
            "File Extracted\n",
            "Starting to parse images...\n",
            "Parsing Done!\n"
          ]
        }
      ]
    },
    {
      "cell_type": "code",
      "source": [
        "x"
      ],
      "metadata": {
        "colab": {
          "base_uri": "https://localhost:8080/"
        },
        "id": "Qg9dktOu3FNd",
        "outputId": "f9528f71-d668-49b4-e372-efbf3ef4de09"
      },
      "execution_count": 4,
      "outputs": [
        {
          "output_type": "execute_result",
          "data": {
            "text/plain": [
              "array([[[[0.00392157, 0.00392157, 0.00392157],\n",
              "         [0.00392157, 0.00392157, 0.00392157],\n",
              "         [0.00392157, 0.00392157, 0.00392157],\n",
              "         ...,\n",
              "         [0.47058824, 0.36078432, 0.39215687],\n",
              "         [0.4509804 , 0.32941177, 0.37254903],\n",
              "         [0.41960785, 0.3019608 , 0.34117648]],\n",
              "\n",
              "        [[0.00392157, 0.00392157, 0.00392157],\n",
              "         [0.00392157, 0.00392157, 0.00392157],\n",
              "         [0.00392157, 0.00392157, 0.00392157],\n",
              "         ...,\n",
              "         [0.47843137, 0.36862746, 0.4       ],\n",
              "         [0.4509804 , 0.33333334, 0.3764706 ],\n",
              "         [0.41568628, 0.3019608 , 0.3372549 ]],\n",
              "\n",
              "        [[0.00392157, 0.00392157, 0.00392157],\n",
              "         [0.00392157, 0.00392157, 0.00392157],\n",
              "         [0.00392157, 0.00392157, 0.00392157],\n",
              "         ...,\n",
              "         [0.48235294, 0.3764706 , 0.40784314],\n",
              "         [0.4392157 , 0.33333334, 0.36862746],\n",
              "         [0.39607844, 0.29411766, 0.3254902 ]],\n",
              "\n",
              "        ...,\n",
              "\n",
              "        [[0.00392157, 0.        , 0.01960784],\n",
              "         [0.00392157, 0.00392157, 0.01176471],\n",
              "         [0.00392157, 0.00392157, 0.00784314],\n",
              "         ...,\n",
              "         [0.16862746, 0.23921569, 0.03921569],\n",
              "         [0.17254902, 0.24313726, 0.03921569],\n",
              "         [0.16470589, 0.23529412, 0.03137255]],\n",
              "\n",
              "        [[0.00392157, 0.00392157, 0.00784314],\n",
              "         [0.00392157, 0.00392157, 0.00392157],\n",
              "         [0.00392157, 0.00392157, 0.00392157],\n",
              "         ...,\n",
              "         [0.17254902, 0.24313726, 0.03529412],\n",
              "         [0.16862746, 0.23529412, 0.02745098],\n",
              "         [0.16078432, 0.22745098, 0.01960784]],\n",
              "\n",
              "        [[0.00392157, 0.00392157, 0.00392157],\n",
              "         [0.00392157, 0.00392157, 0.00392157],\n",
              "         [0.00392157, 0.00392157, 0.00392157],\n",
              "         ...,\n",
              "         [0.17254902, 0.24313726, 0.03529412],\n",
              "         [0.16862746, 0.23529412, 0.02352941],\n",
              "         [0.16078432, 0.22745098, 0.01568628]]],\n",
              "\n",
              "\n",
              "       [[[0.16862746, 0.15686275, 0.05882353],\n",
              "         [0.14901961, 0.12941177, 0.03137255],\n",
              "         [0.18039216, 0.14901961, 0.05098039],\n",
              "         ...,\n",
              "         [0.17254902, 0.11372549, 0.03137255],\n",
              "         [0.1882353 , 0.12941177, 0.04705882],\n",
              "         [0.21568628, 0.15686275, 0.07450981]],\n",
              "\n",
              "        [[0.15294118, 0.13725491, 0.03921569],\n",
              "         [0.13725491, 0.11764706, 0.01568628],\n",
              "         [0.17254902, 0.14117648, 0.03921569],\n",
              "         ...,\n",
              "         [0.17254902, 0.11372549, 0.02745098],\n",
              "         [0.18431373, 0.12941177, 0.04313726],\n",
              "         [0.22352941, 0.16862746, 0.08235294]],\n",
              "\n",
              "        [[0.16078432, 0.14509805, 0.04705882],\n",
              "         [0.15294118, 0.13333334, 0.02352941],\n",
              "         [0.2       , 0.16470589, 0.05882353],\n",
              "         ...,\n",
              "         [0.20784314, 0.14901961, 0.05882353],\n",
              "         [0.21960784, 0.15686275, 0.06666667],\n",
              "         [0.26666668, 0.20392157, 0.11764706]],\n",
              "\n",
              "        ...,\n",
              "\n",
              "        [[0.19607843, 0.28627452, 0.        ],\n",
              "         [0.1882353 , 0.27450982, 0.        ],\n",
              "         [0.18039216, 0.27450982, 0.00392157],\n",
              "         ...,\n",
              "         [0.14117648, 0.10980392, 0.03529412],\n",
              "         [0.14509805, 0.10980392, 0.03921569],\n",
              "         [0.15686275, 0.11764706, 0.05882353]],\n",
              "\n",
              "        [[0.16862746, 0.28235295, 0.        ],\n",
              "         [0.18039216, 0.2901961 , 0.        ],\n",
              "         [0.19607843, 0.3019608 , 0.01568628],\n",
              "         ...,\n",
              "         [0.15294118, 0.09803922, 0.03137255],\n",
              "         [0.14901961, 0.09411765, 0.03529412],\n",
              "         [0.16862746, 0.11372549, 0.0627451 ]],\n",
              "\n",
              "        [[0.16862746, 0.2901961 , 0.        ],\n",
              "         [0.18039216, 0.3019608 , 0.00784314],\n",
              "         [0.2       , 0.31764707, 0.02745098],\n",
              "         ...,\n",
              "         [0.15294118, 0.08627451, 0.02745098],\n",
              "         [0.14509805, 0.08235294, 0.02745098],\n",
              "         [0.17254902, 0.10588235, 0.05882353]]],\n",
              "\n",
              "\n",
              "       [[[0.04705882, 0.05098039, 0.03137255],\n",
              "         [0.03529412, 0.03529412, 0.        ],\n",
              "         [0.14509805, 0.11764706, 0.01176471],\n",
              "         ...,\n",
              "         [0.05490196, 0.03921569, 0.05882353],\n",
              "         [0.03529412, 0.03137255, 0.03137255],\n",
              "         [0.02745098, 0.02745098, 0.01176471]],\n",
              "\n",
              "        [[0.04313726, 0.05098039, 0.02745098],\n",
              "         [0.03529412, 0.03529412, 0.        ],\n",
              "         [0.15294118, 0.1254902 , 0.01960784],\n",
              "         ...,\n",
              "         [0.05490196, 0.03921569, 0.05098039],\n",
              "         [0.03137255, 0.02745098, 0.02745098],\n",
              "         [0.02352941, 0.02745098, 0.01176471]],\n",
              "\n",
              "        [[0.03921569, 0.04705882, 0.02352941],\n",
              "         [0.03529412, 0.03921569, 0.        ],\n",
              "         [0.16078432, 0.13725491, 0.02745098],\n",
              "         ...,\n",
              "         [0.05490196, 0.03921569, 0.04705882],\n",
              "         [0.03137255, 0.02745098, 0.01960784],\n",
              "         [0.01960784, 0.02352941, 0.00784314]],\n",
              "\n",
              "        ...,\n",
              "\n",
              "        [[0.02352941, 0.02352941, 0.02352941],\n",
              "         [0.01960784, 0.01960784, 0.01960784],\n",
              "         [0.01176471, 0.01176471, 0.01176471],\n",
              "         ...,\n",
              "         [0.01568628, 0.01568628, 0.01568628],\n",
              "         [0.02352941, 0.02352941, 0.02352941],\n",
              "         [0.02745098, 0.02745098, 0.02745098]],\n",
              "\n",
              "        [[0.02352941, 0.02352941, 0.02352941],\n",
              "         [0.01960784, 0.01960784, 0.01960784],\n",
              "         [0.01176471, 0.01176471, 0.01176471],\n",
              "         ...,\n",
              "         [0.01568628, 0.01568628, 0.01568628],\n",
              "         [0.02352941, 0.02352941, 0.02352941],\n",
              "         [0.02745098, 0.02745098, 0.02745098]],\n",
              "\n",
              "        [[0.02352941, 0.02352941, 0.02352941],\n",
              "         [0.01960784, 0.01960784, 0.01960784],\n",
              "         [0.01176471, 0.01176471, 0.01176471],\n",
              "         ...,\n",
              "         [0.01568628, 0.01568628, 0.01568628],\n",
              "         [0.02352941, 0.02352941, 0.02352941],\n",
              "         [0.02745098, 0.02745098, 0.02745098]]],\n",
              "\n",
              "\n",
              "       ...,\n",
              "\n",
              "\n",
              "       [[[0.        , 0.01960784, 0.        ],\n",
              "         [0.        , 0.01568628, 0.        ],\n",
              "         [0.        , 0.01176471, 0.        ],\n",
              "         ...,\n",
              "         [0.00784314, 0.01568628, 0.00392157],\n",
              "         [0.01176471, 0.01176471, 0.        ],\n",
              "         [0.01960784, 0.00392157, 0.        ]],\n",
              "\n",
              "        [[0.01176471, 0.        , 0.03529412],\n",
              "         [0.01176471, 0.        , 0.03137255],\n",
              "         [0.00784314, 0.        , 0.01960784],\n",
              "         ...,\n",
              "         [0.02745098, 0.01176471, 0.        ],\n",
              "         [0.03529412, 0.00784314, 0.        ],\n",
              "         [0.03921569, 0.00392157, 0.00784314]],\n",
              "\n",
              "        [[0.02745098, 0.        , 0.07058824],\n",
              "         [0.02352941, 0.        , 0.05490196],\n",
              "         [0.01568628, 0.        , 0.02745098],\n",
              "         ...,\n",
              "         [0.03529412, 0.00392157, 0.00392157],\n",
              "         [0.04705882, 0.00392157, 0.00392157],\n",
              "         [0.03921569, 0.00392157, 0.00784314]],\n",
              "\n",
              "        ...,\n",
              "\n",
              "        [[0.        , 0.        , 0.        ],\n",
              "         [0.        , 0.        , 0.        ],\n",
              "         [0.00392157, 0.00392157, 0.00392157],\n",
              "         ...,\n",
              "         [0.        , 0.        , 0.        ],\n",
              "         [0.00392157, 0.00392157, 0.00392157],\n",
              "         [0.00392157, 0.00392157, 0.00392157]],\n",
              "\n",
              "        [[0.00392157, 0.00392157, 0.00392157],\n",
              "         [0.00392157, 0.00392157, 0.00392157],\n",
              "         [0.00392157, 0.00392157, 0.00392157],\n",
              "         ...,\n",
              "         [0.00392157, 0.00392157, 0.00392157],\n",
              "         [0.00392157, 0.00392157, 0.00392157],\n",
              "         [0.00392157, 0.00392157, 0.00392157]],\n",
              "\n",
              "        [[0.00392157, 0.00392157, 0.00392157],\n",
              "         [0.00392157, 0.00392157, 0.00392157],\n",
              "         [0.00392157, 0.00392157, 0.00392157],\n",
              "         ...,\n",
              "         [0.00392157, 0.00392157, 0.00392157],\n",
              "         [0.00392157, 0.00392157, 0.00392157],\n",
              "         [0.00392157, 0.00392157, 0.00392157]]],\n",
              "\n",
              "\n",
              "       [[[0.07058824, 0.08627451, 0.05882353],\n",
              "         [0.19215687, 0.16078432, 0.15294118],\n",
              "         [0.23529412, 0.1764706 , 0.1882353 ],\n",
              "         ...,\n",
              "         [0.27058825, 0.26666668, 0.28627452],\n",
              "         [0.23137255, 0.23921569, 0.23529412],\n",
              "         [0.05490196, 0.0627451 , 0.05098039]],\n",
              "\n",
              "        [[0.07843138, 0.08235294, 0.0627451 ],\n",
              "         [0.5647059 , 0.5137255 , 0.5137255 ],\n",
              "         [0.69411767, 0.5882353 , 0.61960787],\n",
              "         ...,\n",
              "         [0.99607843, 0.99607843, 0.99607843],\n",
              "         [0.8392157 , 0.84313726, 0.8352941 ],\n",
              "         [0.10196079, 0.10980392, 0.09803922]],\n",
              "\n",
              "        [[0.08235294, 0.06666667, 0.05490196],\n",
              "         [0.5803922 , 0.49803922, 0.5137255 ],\n",
              "         [0.7254902 , 0.57254905, 0.6156863 ],\n",
              "         ...,\n",
              "         [1.        , 1.        , 0.99607843],\n",
              "         [0.827451  , 0.827451  , 0.81960785],\n",
              "         [0.08235294, 0.09019608, 0.07843138]],\n",
              "\n",
              "        ...,\n",
              "\n",
              "        [[0.05098039, 0.08627451, 0.05882353],\n",
              "         [0.10588235, 0.1254902 , 0.10980392],\n",
              "         [0.05490196, 0.0627451 , 0.05490196],\n",
              "         ...,\n",
              "         [0.04313726, 0.07843138, 0.15294118],\n",
              "         [0.0627451 , 0.08235294, 0.13725491],\n",
              "         [0.06666667, 0.08235294, 0.12156863]],\n",
              "\n",
              "        [[0.04705882, 0.08627451, 0.05490196],\n",
              "         [0.11372549, 0.13333334, 0.11764706],\n",
              "         [0.08235294, 0.08627451, 0.07843138],\n",
              "         ...,\n",
              "         [0.05490196, 0.07058824, 0.20392157],\n",
              "         [0.05490196, 0.07058824, 0.12941177],\n",
              "         [0.05490196, 0.07058824, 0.10588235]],\n",
              "\n",
              "        [[0.05882353, 0.09803922, 0.06666667],\n",
              "         [0.07450981, 0.09411765, 0.07843138],\n",
              "         [0.07843138, 0.08235294, 0.07450981],\n",
              "         ...,\n",
              "         [0.05490196, 0.07450981, 0.1764706 ],\n",
              "         [0.0627451 , 0.07843138, 0.1254902 ],\n",
              "         [0.05882353, 0.07843138, 0.10196079]]],\n",
              "\n",
              "\n",
              "       [[[0.6862745 , 0.7647059 , 0.8745098 ],\n",
              "         [0.5372549 , 0.6313726 , 0.77254903],\n",
              "         [0.5137255 , 0.627451  , 0.77254903],\n",
              "         ...,\n",
              "         [0.48235294, 0.6117647 , 0.7411765 ],\n",
              "         [0.6313726 , 0.70980394, 0.8352941 ],\n",
              "         [0.8862745 , 0.9490196 , 1.        ]],\n",
              "\n",
              "        [[0.53333336, 0.62352943, 0.78039217],\n",
              "         [0.28235295, 0.38431373, 0.54901963],\n",
              "         [0.25882354, 0.38039216, 0.5568628 ],\n",
              "         ...,\n",
              "         [0.21176471, 0.34117648, 0.5294118 ],\n",
              "         [0.43529412, 0.5137255 , 0.6627451 ],\n",
              "         [0.87058824, 0.93333334, 0.99215686]],\n",
              "\n",
              "        [[0.5176471 , 0.62352943, 0.80784315],\n",
              "         [0.27450982, 0.39215687, 0.5882353 ],\n",
              "         [0.26666668, 0.40784314, 0.6156863 ],\n",
              "         ...,\n",
              "         [0.20784314, 0.34901962, 0.5882353 ],\n",
              "         [0.42745098, 0.50980395, 0.67058825],\n",
              "         [0.85882354, 0.92156863, 0.98039216]],\n",
              "\n",
              "        ...,\n",
              "\n",
              "        [[0.53333336, 0.5568628 , 0.47058824],\n",
              "         [0.2784314 , 0.30588236, 0.21176471],\n",
              "         [0.2784314 , 0.3137255 , 0.2       ],\n",
              "         ...,\n",
              "         [0.03529412, 0.10196079, 0.11372549],\n",
              "         [0.3019608 , 0.3372549 , 0.33333334],\n",
              "         [0.88235295, 0.90588236, 0.8980392 ]],\n",
              "\n",
              "        [[0.6784314 , 0.6862745 , 0.627451  ],\n",
              "         [0.49411765, 0.49803922, 0.4392157 ],\n",
              "         [0.5019608 , 0.50980395, 0.44705883],\n",
              "         ...,\n",
              "         [0.2784314 , 0.3137255 , 0.30980393],\n",
              "         [0.47058824, 0.4862745 , 0.48235294],\n",
              "         [0.91764706, 0.92156863, 0.92156863]],\n",
              "\n",
              "        [[0.9529412 , 0.9529412 , 0.9098039 ],\n",
              "         [0.93333334, 0.92941177, 0.8862745 ],\n",
              "         [0.9137255 , 0.9137255 , 0.8666667 ],\n",
              "         ...,\n",
              "         [0.8784314 , 0.9019608 , 0.89411765],\n",
              "         [0.91764706, 0.92156863, 0.91764706],\n",
              "         [0.9843137 , 0.9843137 , 0.9843137 ]]]], dtype=float32)"
            ]
          },
          "metadata": {},
          "execution_count": 4
        }
      ]
    },
    {
      "cell_type": "code",
      "source": [
        "y"
      ],
      "metadata": {
        "colab": {
          "base_uri": "https://localhost:8080/"
        },
        "id": "GMSoTNnA3LXX",
        "outputId": "f34d6713-c82e-4be8-eef9-a5e79404783a"
      },
      "execution_count": 5,
      "outputs": [
        {
          "output_type": "execute_result",
          "data": {
            "text/plain": [
              "array([[0., 0., 0., ..., 0., 0., 0.],\n",
              "       [0., 0., 0., ..., 0., 0., 0.],\n",
              "       [0., 0., 0., ..., 0., 0., 0.],\n",
              "       ...,\n",
              "       [0., 0., 0., ..., 0., 0., 0.],\n",
              "       [0., 0., 0., ..., 0., 0., 0.],\n",
              "       [0., 0., 0., ..., 0., 0., 1.]])"
            ]
          },
          "metadata": {},
          "execution_count": 5
        }
      ]
    },
    {
      "cell_type": "code",
      "source": [
        "x.shape"
      ],
      "metadata": {
        "colab": {
          "base_uri": "https://localhost:8080/"
        },
        "id": "QPfWxRTP3RZW",
        "outputId": "8f9942e8-f261-402c-f546-ed9fc2230321"
      },
      "execution_count": 6,
      "outputs": [
        {
          "output_type": "execute_result",
          "data": {
            "text/plain": [
              "(1360, 224, 224, 3)"
            ]
          },
          "metadata": {},
          "execution_count": 6
        }
      ]
    },
    {
      "cell_type": "code",
      "source": [
        "y.shape"
      ],
      "metadata": {
        "colab": {
          "base_uri": "https://localhost:8080/"
        },
        "id": "CWzifJLI3Ss8",
        "outputId": "ca867697-8b53-4f63-fdb5-c3db3fdd5133"
      },
      "execution_count": 7,
      "outputs": [
        {
          "output_type": "execute_result",
          "data": {
            "text/plain": [
              "(1360, 17)"
            ]
          },
          "metadata": {},
          "execution_count": 7
        }
      ]
    },
    {
      "cell_type": "code",
      "source": [
        "# Create a sequential model\n",
        "model = Sequential()\n",
        "\n",
        "# 1st Convolutional Layer\n",
        "model.add(Conv2D(filters=96, input_shape=(224,224,3), kernel_size=(11,11), strides=(4,4), padding='valid'))\n",
        "model.add(Activation('relu'))\n",
        "\n",
        "# Pooling\n",
        "model.add(MaxPooling2D(pool_size=(3,3), strides=(2,2), padding='valid'))\n",
        "# Batch Normalisation before passing it to the next layer\n",
        "model.add(BatchNormalization())\n",
        "\n",
        "# 2nd Convolutional Layer\n",
        "model.add(Conv2D(filters=256, kernel_size=(5,5), strides=(1,1), padding='same'))\n",
        "model.add(Activation('relu'))\n",
        "\n",
        "# Pooling\n",
        "model.add(MaxPooling2D(pool_size=(3,3), strides=(2,2), padding='valid'))\n",
        "# Batch Normalisation\n",
        "model.add(BatchNormalization())\n",
        "\n",
        "\n",
        "\n",
        "# 3rd Convolutional Layer\n",
        "model.add(Conv2D(filters=384, kernel_size=(3,3), strides=(1,1), padding='valid'))\n",
        "model.add(Activation('relu'))\n",
        "# Batch Normalisation\n",
        "model.add(BatchNormalization())\n",
        "\n",
        "# 4th Convolutional Layer\n",
        "model.add(Conv2D(filters=384, kernel_size=(3,3), strides=(1,1), padding='valid'))\n",
        "model.add(Activation('relu'))\n",
        "# Batch Normalisation\n",
        "model.add(BatchNormalization())\n",
        "\n",
        "\n",
        "# 5th Convolutional Layer\n",
        "model.add(Conv2D(filters=256, kernel_size=(3,3), strides=(1,1), padding='valid'))\n",
        "model.add(Activation('relu'))\n",
        "\n",
        "\n",
        "# Pooling\n",
        "model.add(MaxPooling2D(pool_size=(3,3), strides=(2,2), padding='valid'))\n",
        "# Batch Normalisation\n",
        "model.add(BatchNormalization())\n",
        "\n",
        "\n",
        "# Passing it to a dense layer\n",
        "model.add(Flatten())\n",
        "\n",
        "# 1st Dense Layer\n",
        "model.add(Dense(4096, input_shape=(224*224*3,)))\n",
        "model.add(Activation('relu'))\n",
        "# Add Dropout to prevent overfitting\n",
        "model.add(Dropout(0.4))\n",
        "# Batch Normalisation\n",
        "model.add(BatchNormalization())\n",
        "\n",
        "# 2nd Dense Layer\n",
        "model.add(Dense(4096))\n",
        "model.add(Activation('relu'))\n",
        "# Add Dropout\n",
        "model.add(Dropout(0.4))\n",
        "# Batch Normalisation\n",
        "model.add(BatchNormalization())\n",
        "\n",
        "# Output Layer\n",
        "model.add(Dense(17))\n",
        "model.add(Activation('softmax'))\n",
        "\n",
        "model.summary()"
      ],
      "metadata": {
        "colab": {
          "base_uri": "https://localhost:8080/"
        },
        "id": "JzODLOsp3UCK",
        "outputId": "ca1dd953-eba1-4a5a-f598-577f575e429d"
      },
      "execution_count": 8,
      "outputs": [
        {
          "output_type": "stream",
          "name": "stderr",
          "text": [
            "WARNING:tensorflow:From /usr/local/lib/python3.10/dist-packages/keras/layers/normalization/batch_normalization.py:581: _colocate_with (from tensorflow.python.framework.ops) is deprecated and will be removed in a future version.\n",
            "Instructions for updating:\n",
            "Colocations handled automatically by placer.\n"
          ]
        },
        {
          "output_type": "stream",
          "name": "stdout",
          "text": [
            "Model: \"sequential\"\n",
            "_________________________________________________________________\n",
            " Layer (type)                Output Shape              Param #   \n",
            "=================================================================\n",
            " conv2d (Conv2D)             (None, 54, 54, 96)        34944     \n",
            "                                                                 \n",
            " activation (Activation)     (None, 54, 54, 96)        0         \n",
            "                                                                 \n",
            " max_pooling2d (MaxPooling2D  (None, 26, 26, 96)       0         \n",
            " )                                                               \n",
            "                                                                 \n",
            " batch_normalization (BatchN  (None, 26, 26, 96)       384       \n",
            " ormalization)                                                   \n",
            "                                                                 \n",
            " conv2d_1 (Conv2D)           (None, 26, 26, 256)       614656    \n",
            "                                                                 \n",
            " activation_1 (Activation)   (None, 26, 26, 256)       0         \n",
            "                                                                 \n",
            " max_pooling2d_1 (MaxPooling  (None, 12, 12, 256)      0         \n",
            " 2D)                                                             \n",
            "                                                                 \n",
            " batch_normalization_1 (Batc  (None, 12, 12, 256)      1024      \n",
            " hNormalization)                                                 \n",
            "                                                                 \n",
            " conv2d_2 (Conv2D)           (None, 10, 10, 384)       885120    \n",
            "                                                                 \n",
            " activation_2 (Activation)   (None, 10, 10, 384)       0         \n",
            "                                                                 \n",
            " batch_normalization_2 (Batc  (None, 10, 10, 384)      1536      \n",
            " hNormalization)                                                 \n",
            "                                                                 \n",
            " conv2d_3 (Conv2D)           (None, 8, 8, 384)         1327488   \n",
            "                                                                 \n",
            " activation_3 (Activation)   (None, 8, 8, 384)         0         \n",
            "                                                                 \n",
            " batch_normalization_3 (Batc  (None, 8, 8, 384)        1536      \n",
            " hNormalization)                                                 \n",
            "                                                                 \n",
            " conv2d_4 (Conv2D)           (None, 6, 6, 256)         884992    \n",
            "                                                                 \n",
            " activation_4 (Activation)   (None, 6, 6, 256)         0         \n",
            "                                                                 \n",
            " max_pooling2d_2 (MaxPooling  (None, 2, 2, 256)        0         \n",
            " 2D)                                                             \n",
            "                                                                 \n",
            " batch_normalization_4 (Batc  (None, 2, 2, 256)        1024      \n",
            " hNormalization)                                                 \n",
            "                                                                 \n",
            " flatten (Flatten)           (None, 1024)              0         \n",
            "                                                                 \n",
            " dense (Dense)               (None, 4096)              4198400   \n",
            "                                                                 \n",
            " activation_5 (Activation)   (None, 4096)              0         \n",
            "                                                                 \n",
            " dropout (Dropout)           (None, 4096)              0         \n",
            "                                                                 \n",
            " batch_normalization_5 (Batc  (None, 4096)             16384     \n",
            " hNormalization)                                                 \n",
            "                                                                 \n",
            " dense_1 (Dense)             (None, 4096)              16781312  \n",
            "                                                                 \n",
            " activation_6 (Activation)   (None, 4096)              0         \n",
            "                                                                 \n",
            " dropout_1 (Dropout)         (None, 4096)              0         \n",
            "                                                                 \n",
            " batch_normalization_6 (Batc  (None, 4096)             16384     \n",
            " hNormalization)                                                 \n",
            "                                                                 \n",
            " dense_2 (Dense)             (None, 17)                69649     \n",
            "                                                                 \n",
            " activation_7 (Activation)   (None, 17)                0         \n",
            "                                                                 \n",
            "=================================================================\n",
            "Total params: 24,834,833\n",
            "Trainable params: 24,815,697\n",
            "Non-trainable params: 19,136\n",
            "_________________________________________________________________\n"
          ]
        }
      ]
    },
    {
      "cell_type": "code",
      "source": [
        "!pip install tensorflow-addons==0.16.1"
      ],
      "metadata": {
        "colab": {
          "base_uri": "https://localhost:8080/"
        },
        "id": "1QKlvz-O6OHd",
        "outputId": "0566030e-ef33-4c5d-9201-2dcb09e2fe08"
      },
      "execution_count": 10,
      "outputs": [
        {
          "output_type": "stream",
          "name": "stdout",
          "text": [
            "Collecting tensorflow-addons==0.16.1\n",
            "  Downloading tensorflow_addons-0.16.1-cp310-cp310-manylinux_2_12_x86_64.manylinux2010_x86_64.whl (1.1 MB)\n",
            "\u001b[2K     \u001b[90m━━━━━━━━━━━━━━━━━━━━━━━━━━━━━━━━━━━━━━━━\u001b[0m \u001b[32m1.1/1.1 MB\u001b[0m \u001b[31m5.0 MB/s\u001b[0m eta \u001b[36m0:00:00\u001b[0m\n",
            "\u001b[?25hCollecting typeguard>=2.7 (from tensorflow-addons==0.16.1)\n",
            "  Downloading typeguard-4.1.3-py3-none-any.whl (33 kB)\n",
            "Requirement already satisfied: typing-extensions>=4.7.0 in /usr/local/lib/python3.10/dist-packages (from typeguard>=2.7->tensorflow-addons==0.16.1) (4.7.1)\n",
            "Installing collected packages: typeguard, tensorflow-addons\n",
            "Successfully installed tensorflow-addons-0.16.1 typeguard-4.1.3\n"
          ]
        }
      ]
    },
    {
      "cell_type": "code",
      "source": [
        "# Compile\n",
        "\n",
        "model.compile(loss = keras.metrics.categorical_crossentropy, optimizer = keras.optimizers.Adam(), metrics = ['accuracy'])"
      ],
      "metadata": {
        "id": "bUpE3ISC3hPi"
      },
      "execution_count": 12,
      "outputs": []
    },
    {
      "cell_type": "code",
      "source": [
        "\n",
        "model.fit(x, y, batch_size=64, epochs=5, verbose=1,validation_split=0.2, shuffle=True)"
      ],
      "metadata": {
        "colab": {
          "base_uri": "https://localhost:8080/"
        },
        "id": "HfnNedHN6E4g",
        "outputId": "1f80209b-9402-4b7f-f75b-fe0d7d088ff3"
      },
      "execution_count": 13,
      "outputs": [
        {
          "output_type": "stream",
          "name": "stdout",
          "text": [
            "Train on 1088 samples, validate on 272 samples\n",
            "Epoch 1/5\n",
            "1088/1088 [==============================] - ETA: 0s - loss: 3.4253 - acc: 0.2702"
          ]
        },
        {
          "output_type": "stream",
          "name": "stderr",
          "text": [
            "/usr/local/lib/python3.10/dist-packages/keras/engine/training_v1.py:2335: UserWarning: `Model.state_updates` will be removed in a future version. This property should not be used in TensorFlow 2.0, as `updates` are applied automatically.\n",
            "  updates = self.state_updates\n"
          ]
        },
        {
          "output_type": "stream",
          "name": "stdout",
          "text": [
            "\b\b\b\b\b\b\b\b\b\b\b\b\b\b\b\b\b\b\b\b\b\b\b\b\b\b\b\b\b\b\b\b\b\b\b\b\b\b\b\b\b\b\b\b\b\b\b\b\b\b\b\b\b\b\b\b\b\b\b\b\b\b\b\b\b\b\b\b\b\b\b\b\b\b\b\b\b\b\b\b\b\r1088/1088 [==============================] - 12s 11ms/sample - loss: 3.4253 - acc: 0.2702 - val_loss: 138.8456 - val_acc: 0.0551\n",
            "Epoch 2/5\n",
            "1088/1088 [==============================] - 1s 1ms/sample - loss: 2.2008 - acc: 0.4053 - val_loss: 41.7566 - val_acc: 0.0846\n",
            "Epoch 3/5\n",
            "1088/1088 [==============================] - 1s 1ms/sample - loss: 1.6506 - acc: 0.5064 - val_loss: 22.6317 - val_acc: 0.1507\n",
            "Epoch 4/5\n",
            "1088/1088 [==============================] - 1s 1ms/sample - loss: 1.5560 - acc: 0.5542 - val_loss: 12.1958 - val_acc: 0.1765\n",
            "Epoch 5/5\n",
            "1088/1088 [==============================] - 1s 1ms/sample - loss: 1.4009 - acc: 0.5983 - val_loss: 5.1795 - val_acc: 0.2831\n"
          ]
        },
        {
          "output_type": "execute_result",
          "data": {
            "text/plain": [
              "<keras.callbacks.History at 0x7bdaf6477b80>"
            ]
          },
          "metadata": {},
          "execution_count": 13
        }
      ]
    },
    {
      "cell_type": "code",
      "source": [],
      "metadata": {
        "id": "csdXEyzZ6049"
      },
      "execution_count": null,
      "outputs": []
    }
  ]
}